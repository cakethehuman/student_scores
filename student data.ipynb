{
 "cells": [
  {
   "cell_type": "code",
   "execution_count": null,
   "metadata": {
    "executionInfo": {
     "elapsed": 335,
     "status": "ok",
     "timestamp": 1731172960150,
     "user": {
      "displayName": "Wil Son",
      "userId": "06099303699935751756"
     },
     "user_tz": -420
    },
    "id": "uT0xWMnbVFpw"
   },
   "outputs": [
    {
     "ename": "",
     "evalue": "",
     "output_type": "error",
     "traceback": [
      "\u001b[1;31mFailed to start the Kernel. \n",
      "\u001b[1;31mUnable to start Kernel 'Python 3.11.9' due to a timeout waiting for the ports to get used. \n",
      "\u001b[1;31mView Jupyter <a href='command:jupyter.viewOutput'>log</a> for further details."
     ]
    }
   ],
   "source": [
    "import numpy as np \n",
    "import pandas as pd \n",
    "import seaborn as sns\n",
    "import matplotlib.pyplot as plt\n",
    "from scipy import *\n"
   ]
  },
  {
   "cell_type": "code",
   "execution_count": null,
   "metadata": {
    "colab": {
     "base_uri": "https://localhost:8080/",
     "height": 206
    },
    "executionInfo": {
     "elapsed": 430,
     "status": "ok",
     "timestamp": 1731172960994,
     "user": {
      "displayName": "Wil Son",
      "userId": "06099303699935751756"
     },
     "user_tz": -420
    },
    "id": "ZCrElrbMVRo8",
    "outputId": "2395acc0-3188-4117-eced-662f48a50bd1"
   },
   "outputs": [],
   "source": [
    "df = pd.read_csv(\"exams.csv\")\n",
    "df.head()"
   ]
  },
  {
   "cell_type": "code",
   "execution_count": null,
   "metadata": {
    "colab": {
     "base_uri": "https://localhost:8080/",
     "height": 335
    },
    "executionInfo": {
     "elapsed": 49,
     "status": "ok",
     "timestamp": 1731172960994,
     "user": {
      "displayName": "Wil Son",
      "userId": "06099303699935751756"
     },
     "user_tz": -420
    },
    "id": "pSPY3JVzWrcB",
    "outputId": "2b75a070-a792-4529-b32b-49a9f6c490cb"
   },
   "outputs": [],
   "source": [
    "df.isnull().sum()"
   ]
  },
  {
   "cell_type": "code",
   "execution_count": null,
   "metadata": {
    "colab": {
     "base_uri": "https://localhost:8080/"
    },
    "executionInfo": {
     "elapsed": 47,
     "status": "ok",
     "timestamp": 1731172960994,
     "user": {
      "displayName": "Wil Son",
      "userId": "06099303699935751756"
     },
     "user_tz": -420
    },
    "id": "Xi7lPWZPWvd7",
    "outputId": "a15e3ca1-23aa-45c5-d678-14d23a7617aa"
   },
   "outputs": [],
   "source": [
    "df.duplicated().sum()"
   ]
  },
  {
   "cell_type": "code",
   "execution_count": null,
   "metadata": {
    "colab": {
     "base_uri": "https://localhost:8080/",
     "height": 424
    },
    "executionInfo": {
     "elapsed": 33,
     "status": "ok",
     "timestamp": 1731172960994,
     "user": {
      "displayName": "Wil Son",
      "userId": "06099303699935751756"
     },
     "user_tz": -420
    },
    "id": "kX1J9updWxWm",
    "outputId": "8ba8cf9d-ea55-401f-ec0e-d89ef2ff76ff"
   },
   "outputs": [],
   "source": [
    "df.drop_duplicates()"
   ]
  },
  {
   "cell_type": "code",
   "execution_count": null,
   "metadata": {
    "colab": {
     "base_uri": "https://localhost:8080/"
    },
    "executionInfo": {
     "elapsed": 32,
     "status": "ok",
     "timestamp": 1731172960994,
     "user": {
      "displayName": "Wil Son",
      "userId": "06099303699935751756"
     },
     "user_tz": -420
    },
    "id": "gXXRftErWyXt",
    "outputId": "8fde9ee6-524c-4d5a-f0d7-eb1190a2b5f0"
   },
   "outputs": [],
   "source": [
    "df.duplicated().sum()"
   ]
  },
  {
   "cell_type": "code",
   "execution_count": null,
   "metadata": {
    "executionInfo": {
     "elapsed": 11,
     "status": "ok",
     "timestamp": 1731172960994,
     "user": {
      "displayName": "Wil Son",
      "userId": "06099303699935751756"
     },
     "user_tz": -420
    },
    "id": "LkY059xKWzUY"
   },
   "outputs": [],
   "source": [
    "df['gender'] = df['gender'].map({'male': 1, 'female': 0})"
   ]
  },
  {
   "cell_type": "code",
   "execution_count": null,
   "metadata": {
    "colab": {
     "base_uri": "https://localhost:8080/",
     "height": 458
    },
    "executionInfo": {
     "elapsed": 11,
     "status": "ok",
     "timestamp": 1731172960994,
     "user": {
      "displayName": "Wil Son",
      "userId": "06099303699935751756"
     },
     "user_tz": -420
    },
    "id": "phGuBF55W2n4",
    "outputId": "81a1b140-4817-4959-8508-e752c5e2c2f8"
   },
   "outputs": [],
   "source": [
    "df['math score']"
   ]
  },
  {
   "cell_type": "code",
   "execution_count": null,
   "metadata": {
    "executionInfo": {
     "elapsed": 10,
     "status": "ok",
     "timestamp": 1731172960994,
     "user": {
      "displayName": "Wil Son",
      "userId": "06099303699935751756"
     },
     "user_tz": -420
    },
    "id": "Sbaw_KLXW5QW"
   },
   "outputs": [],
   "source": [
    "df = pd.concat([df.drop(\"race/ethnicity\",axis = 1),pd.get_dummies(df[\"race/ethnicity\"] , dtype = int )], axis = 1)\n",
    "df = pd.concat([df.drop(\"parental level of education\",axis = 1),pd.get_dummies(df[\"parental level of education\"] , dtype = int )], axis = 1)\n",
    "df = pd.concat([df.drop(\"lunch\",axis = 1),pd.get_dummies(df[\"lunch\"] , dtype = int )], axis = 1)\n",
    "df = pd.concat([df.drop(\"test preparation course\",axis = 1),pd.get_dummies(df[\"test preparation course\"] , dtype = int )], axis = 1)"
   ]
  },
  {
   "cell_type": "code",
   "execution_count": null,
   "metadata": {
    "colab": {
     "base_uri": "https://localhost:8080/",
     "height": 478
    },
    "executionInfo": {
     "elapsed": 9,
     "status": "ok",
     "timestamp": 1731172960994,
     "user": {
      "displayName": "Wil Son",
      "userId": "06099303699935751756"
     },
     "user_tz": -420
    },
    "id": "0T6gXl5XW6Os",
    "outputId": "157b9484-4f85-4f2a-8200-6e49629b7761"
   },
   "outputs": [],
   "source": [
    "df"
   ]
  },
  {
   "cell_type": "code",
   "execution_count": null,
   "metadata": {
    "colab": {
     "base_uri": "https://localhost:8080/",
     "height": 554
    },
    "executionInfo": {
     "elapsed": 35,
     "status": "ok",
     "timestamp": 1731172963172,
     "user": {
      "displayName": "Wil Son",
      "userId": "06099303699935751756"
     },
     "user_tz": -420
    },
    "id": "-fjIKhP-W_hN",
    "outputId": "1b9514ae-9662-4f54-db93-1eebe45bf1b5"
   },
   "outputs": [],
   "source": [
    "cor_target = abs(correlation['math score'])\n",
    "\n",
    "\n",
    "relevant_features = cor_target[cor_target>0.1]\n",
    "relevant_features.sort_values()"
   ]
  },
  {
   "cell_type": "code",
   "execution_count": null,
   "metadata": {
    "colab": {
     "base_uri": "https://localhost:8080/",
     "height": 398
    },
    "executionInfo": {
     "elapsed": 35,
     "status": "ok",
     "timestamp": 1731172963172,
     "user": {
      "displayName": "Wil Son",
      "userId": "06099303699935751756"
     },
     "user_tz": -420
    },
    "id": "ECTGlvCYXEvY",
    "outputId": "a452ff5a-9b65-4ef3-81fb-8b3f4188b670"
   },
   "outputs": [],
   "source": [
    "cor_target = abs(correlation['reading score'])\n",
    "\n",
    "\n",
    "relevant_features = cor_target[cor_target>0.1]\n",
    "relevant_features.nlargest(10)"
   ]
  },
  {
   "cell_type": "code",
   "execution_count": null,
   "metadata": {
    "colab": {
     "base_uri": "https://localhost:8080/",
     "height": 143
    },
    "executionInfo": {
     "elapsed": 34,
     "status": "ok",
     "timestamp": 1731172963172,
     "user": {
      "displayName": "Wil Son",
      "userId": "06099303699935751756"
     },
     "user_tz": -420
    },
    "id": "HAFe4ZGMXGcw",
    "outputId": "8e633b6e-756e-4df7-8235-57954cd09acf"
   },
   "outputs": [],
   "source": [
    "round(df[[\"math score\",\"reading score\",\"writing score\"]].groupby(df[\"gender\"].map({1: \"male\", 0: 'female'})).mean())"
   ]
  },
  {
   "cell_type": "code",
   "execution_count": null,
   "metadata": {
    "colab": {
     "base_uri": "https://localhost:8080/",
     "height": 525
    },
    "executionInfo": {
     "elapsed": 33,
     "status": "ok",
     "timestamp": 1731172963172,
     "user": {
      "displayName": "Wil Son",
      "userId": "06099303699935751756"
     },
     "user_tz": -420
    },
    "id": "ZxX3nU1GZqml",
    "outputId": "024064ae-4750-453b-f25a-cf861776b6b7"
   },
   "outputs": [],
   "source": [
    "y0 = np.array([63.0,72.0 ,72.0])\n",
    "x0 = np.array([\"math score\",\"reading score\",\"writing score\"])\n",
    "plt.figure(figsize=(10, 5))\n",
    "plt.title(\"avg grade of female\")\n",
    "plt.ylabel(\"grade\")\n",
    "plt.xlabel(\"subject\")\n",
    "plt.bar(x0,y0,label = 'grade',color=[\"blue\",\"green\",\"red\"])\n",
    "plt.show()"
   ]
  },
  {
   "cell_type": "code",
   "execution_count": null,
   "metadata": {
    "colab": {
     "base_uri": "https://localhost:8080/",
     "height": 525
    },
    "executionInfo": {
     "elapsed": 31,
     "status": "ok",
     "timestamp": 1731172963568,
     "user": {
      "displayName": "Wil Son",
      "userId": "06099303699935751756"
     },
     "user_tz": -420
    },
    "id": "N8AG3WjYbUKq",
    "outputId": "738f3ade-d683-43e2-efda-0a91eb661352"
   },
   "outputs": [],
   "source": [
    "y = np.array([69.0,66.0,64.0])\n",
    "x = np.array([\"math score\",\"reading score\",\"writing score\"])\n",
    "plt.figure(figsize=(10, 5))\n",
    "plt.title(\"avg grade of male\")\n",
    "plt.ylabel(\"grade\")\n",
    "plt.xlabel(\"subject\")\n",
    "plt.bar(x,y,label = 'grade',color=[\"blue\",\"green\",\"red\"])\n",
    "plt.show()"
   ]
  },
  {
   "cell_type": "code",
   "execution_count": null,
   "metadata": {
    "colab": {
     "base_uri": "https://localhost:8080/",
     "height": 478
    },
    "executionInfo": {
     "elapsed": 29,
     "status": "ok",
     "timestamp": 1731172963568,
     "user": {
      "displayName": "Wil Son",
      "userId": "06099303699935751756"
     },
     "user_tz": -420
    },
    "id": "MxYDFZJZbUFt",
    "outputId": "113fc01f-a0ff-48a1-c829-9b1311c6c848"
   },
   "outputs": [],
   "source": [
    "df"
   ]
  },
  {
   "cell_type": "code",
   "execution_count": null,
   "metadata": {
    "colab": {
     "base_uri": "https://localhost:8080/",
     "height": 694
    },
    "executionInfo": {
     "elapsed": 28,
     "status": "ok",
     "timestamp": 1731172963568,
     "user": {
      "displayName": "Wil Son",
      "userId": "06099303699935751756"
     },
     "user_tz": -420
    },
    "id": "rhB3LE5uXJgt",
    "outputId": "75237501-10ac-4508-ac28-fb6ffd9b351a"
   },
   "outputs": [],
   "source": [
    "plt.hist(df[\"math score\"].pct_change(),color ='green',edgecolor='black',bins=50,density = True)\n",
    "plt.tight_layout()\n",
    "plt.plot(kind = \"kde\")\n",
    "plt.show"
   ]
  },
  {
   "cell_type": "code",
   "execution_count": null,
   "metadata": {
    "colab": {
     "base_uri": "https://localhost:8080/",
     "height": 178
    },
    "executionInfo": {
     "elapsed": 324,
     "status": "ok",
     "timestamp": 1731173597039,
     "user": {
      "displayName": "Wil Son",
      "userId": "06099303699935751756"
     },
     "user_tz": -420
    },
    "id": "XO9ZqrOW-_In",
    "outputId": "023c61b2-0a46-4d75-9188-ab8eb28f84e9"
   },
   "outputs": [],
   "source": [
    "round(df[[\"math score\",\"reading score\",\"writing score\"]].mean())"
   ]
  },
  {
   "cell_type": "code",
   "execution_count": null,
   "metadata": {
    "colab": {
     "base_uri": "https://localhost:8080/",
     "height": 513
    },
    "executionInfo": {
     "elapsed": 682,
     "status": "ok",
     "timestamp": 1731173781021,
     "user": {
      "displayName": "Wil Son",
      "userId": "06099303699935751756"
     },
     "user_tz": -420
    },
    "id": "fBL8ZVfs8BN4",
    "outputId": "8d634cdb-0d02-49fe-d3da-dcb61dc129fa"
   },
   "outputs": [],
   "source": [
    "\n",
    "fig, axs = plt.subplots(1,3)\n",
    "fig.set_figheight(5)\n",
    "fig.set_figwidth(15)\n",
    "fig.suptitle('male and female')\n",
    "axs[0].title.set_text('male')\n",
    "axs[0].bar(x,y,label = 'grade',color=[\"blue\",\"green\",\"red\"])\n",
    "\n",
    "axs[1].bar(x0,y0,label = 'grade',color=[\"blue\",\"green\",\"red\"])\n",
    "axs[1].title.set_text('female')\n",
    "y_avg = np.array([66.0,69.0,68.0])\n",
    "x_avg = np.array([\"math score\",\"reading score\",\"writing score\"])\n",
    "axs[2].title.set_text('avg')\n",
    "axs[2].bar(x_avg,y_avg,label = 'grade',color=[\"blue\",\"green\",\"red\"])"
   ]
  },
  {
   "cell_type": "markdown",
   "metadata": {
    "id": "_P4sD8gPCRXp"
   },
   "source": []
  },
  {
   "cell_type": "markdown",
   "metadata": {
    "id": "cfZYX6vcCSph"
   },
   "source": []
  },
  {
   "cell_type": "code",
   "execution_count": null,
   "metadata": {
    "colab": {
     "base_uri": "https://localhost:8080/",
     "height": 363
    },
    "executionInfo": {
     "elapsed": 332,
     "status": "ok",
     "timestamp": 1731174942355,
     "user": {
      "displayName": "Wil Son",
      "userId": "06099303699935751756"
     },
     "user_tz": -420
    },
    "id": "ah7SHCbv_6pn",
    "outputId": "f43c5dca-416f-486a-a2b9-262f80617f6b"
   },
   "outputs": [],
   "source": [
    "x = df['gender'].map({1: \"male\", 0: 'female'})\n",
    "df[['gender',\"math score\"]].sort_values(by=[\"math score\"], ascending=False).groupby(x).head(5)\n",
    "\n"
   ]
  },
  {
   "cell_type": "code",
   "execution_count": null,
   "metadata": {
    "colab": {
     "base_uri": "https://localhost:8080/",
     "height": 363
    },
    "executionInfo": {
     "elapsed": 330,
     "status": "ok",
     "timestamp": 1731174929498,
     "user": {
      "displayName": "Wil Son",
      "userId": "06099303699935751756"
     },
     "user_tz": -420
    },
    "id": "eLJt1G1CD8j7",
    "outputId": "731f9c29-d7c5-454b-b0bb-64b87ff84f34"
   },
   "outputs": [],
   "source": [
    "df[['gender','reading score']].sort_values(by=[\"reading score\"], ascending=False).groupby(x).head(5)"
   ]
  },
  {
   "cell_type": "code",
   "execution_count": null,
   "metadata": {
    "id": "S_Qx5v1sEVpy"
   },
   "outputs": [],
   "source": [
    "df[['gender',\"writing score\"]].sort_values(by=[\"writing score\"], ascending=False).groupby(x).head(5)"
   ]
  }
 ],
 "metadata": {
  "colab": {
   "authorship_tag": "ABX9TyMGkkcMNLUopdiHOqHDI3rY",
   "mount_file_id": "1r6QVcoBp1W_WeQcjoV55ew66bTy4Bj67",
   "provenance": []
  },
  "kernelspec": {
   "display_name": "Python 3",
   "name": "python3"
  },
  "language_info": {
   "codemirror_mode": {
    "name": "ipython",
    "version": 3
   },
   "file_extension": ".py",
   "mimetype": "text/x-python",
   "name": "python",
   "nbconvert_exporter": "python",
   "pygments_lexer": "ipython3",
   "version": "3.11.9"
  }
 },
 "nbformat": 4,
 "nbformat_minor": 0
}
